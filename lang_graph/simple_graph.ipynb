{
 "cells": [
  {
   "cell_type": "markdown",
   "id": "3c128884",
   "metadata": {},
   "source": [
    "# Simple LangGraph Chatbot\n",
    "\n",
    "This notebook demonstrates how to build a simple chatbot using LangGraph, a library for creating stateful multi-step conversational applications. We'll create a basic graph with a single chat node that processes messages using the OpenAI API."
   ]
  },
  {
   "cell_type": "markdown",
   "id": "7713d93b",
   "metadata": {},
   "source": [
    "## 1. Import Required Libraries\n",
    "\n",
    "First, let's import all the necessary libraries for building our LangGraph chatbot:"
   ]
  },
  {
   "cell_type": "code",
   "execution_count": 16,
   "id": "dae789f1",
   "metadata": {},
   "outputs": [],
   "source": [
    "import os\n",
    "from dotenv import load_dotenv\n",
    "\n",
    "from typing import Annotated\n",
    "from typing_extensions import TypedDict\n",
    "from langgraph.graph import StateGraph\n",
    "from langgraph.graph.message import add_messages\n",
    "\n",
    "from pydantic import SecretStr\n",
    "from IPython.display import Image, display"
   ]
  },
  {
   "cell_type": "markdown",
   "id": "1ddd7138",
   "metadata": {},
   "source": [
    "## 2. Load Environment Variables\n",
    "\n",
    "Next, we'll load environment variables from a .env file. Make sure you have a .env file with your OPENAI_API_KEY defined."
   ]
  },
  {
   "cell_type": "code",
   "execution_count": 17,
   "id": "92f0826f",
   "metadata": {},
   "outputs": [
    {
     "data": {
      "text/plain": [
       "True"
      ]
     },
     "execution_count": 17,
     "metadata": {},
     "output_type": "execute_result"
    }
   ],
   "source": [
    "# Load environment variables from .env file\n",
    "load_dotenv()"
   ]
  },
  {
   "cell_type": "markdown",
   "id": "640c5b3d",
   "metadata": {},
   "source": [
    "## 3. Initialize the Language Model\n",
    "\n",
    "Now, let's import and initialize the OpenAI language model that we'll use in our chatbot:"
   ]
  },
  {
   "cell_type": "code",
   "execution_count": 18,
   "id": "ec43c0c2",
   "metadata": {},
   "outputs": [],
   "source": [
    "from langchain_openai.chat_models import ChatOpenAI\n",
    "\n",
    "llm = ChatOpenAI(\n",
    "    model=\"gpt-4o-mini\",\n",
    "    api_key=SecretStr(os.getenv(\"OPENAI_API_KEY\") or \"\"),  # Ensure your API key is set in the environment\n",
    "    temperature=0.0  # Set temperature to 0 for deterministic responses\n",
    ")"
   ]
  },
  {
   "cell_type": "markdown",
   "id": "d2dc926e",
   "metadata": {},
   "source": [
    "## 4. Define State and Graph\n",
    "\n",
    "Let's define the state structure using TypedDict and initialize our StateGraph:"
   ]
  },
  {
   "cell_type": "code",
   "execution_count": 19,
   "id": "a8296b6b",
   "metadata": {},
   "outputs": [],
   "source": [
    "class State(TypedDict):\n",
    "    # messages have the type \"list\".\n",
    "    # The add_messages function appends messages to the list, rather than overwriting them\n",
    "    messages: Annotated[list, add_messages]\n",
    "\n",
    "# Initialize the StateGraph with our defined State\n",
    "graph_builder = StateGraph(State)"
   ]
  },
  {
   "cell_type": "markdown",
   "id": "d6675ba8",
   "metadata": {},
   "source": [
    "## 5. Define Chatbot Node\n",
    "\n",
    "Now, let's define the chatbot function that will process messages and return responses:"
   ]
  },
  {
   "cell_type": "code",
   "execution_count": 20,
   "id": "10cf4a34",
   "metadata": {},
   "outputs": [],
   "source": [
    "def chatbot(state: State):\n",
    "    \"\"\"\n",
    "    This function processes the current state (messages) and returns a response from the language model.\n",
    "    \n",
    "    Args:\n",
    "        state: The current state containing messages\n",
    "        \n",
    "    Returns:\n",
    "        A dictionary with messages list containing the LLM's response\n",
    "    \"\"\"\n",
    "    return {\"messages\": [llm.invoke(state[\"messages\"])]}"
   ]
  },
  {
   "cell_type": "markdown",
   "id": "605fbc5b",
   "metadata": {},
   "source": [
    "## 6. Build and Compile the Graph\n",
    "\n",
    "Let's add our chatbot node to the graph, set the entry and finish points, and compile the graph:"
   ]
  },
  {
   "cell_type": "code",
   "execution_count": 21,
   "id": "0bf4493e",
   "metadata": {},
   "outputs": [],
   "source": [
    "# Add the chatbot node to the graph\n",
    "# The first argument is the unique node name\n",
    "# The second argument is the function that will be called whenever the node is used\n",
    "graph_builder.add_node(\"chatbot\", chatbot)\n",
    "\n",
    "# Set entry and finish points\n",
    "graph_builder.set_entry_point(\"chatbot\")\n",
    "graph_builder.set_finish_point(\"chatbot\")\n",
    "\n",
    "# Compile the graph\n",
    "graph = graph_builder.compile()"
   ]
  },
  {
   "cell_type": "markdown",
   "id": "b8d68a53",
   "metadata": {},
   "source": [
    "## 7. Visualize the Graph\n",
    "\n",
    "Now let's visualize our simple graph structure using Mermaid. Note that this requires the `graphviz` package to be installed:"
   ]
  },
  {
   "cell_type": "code",
   "execution_count": 22,
   "id": "a3d33ea9",
   "metadata": {},
   "outputs": [
    {
     "data": {
      "image/png": "[encoded data removed]",
      "text/plain": [
       "<IPython.core.display.Image object>"
      ]
     },
     "metadata": {},
     "output_type": "display_data"
    }
   ],
   "source": [
    "# Try to display the graph visualization\n",
    "try:\n",
    "    display(Image(graph.get_graph().draw_mermaid_png()))\n",
    "except Exception as e:\n",
    "    print(f\"Could not visualize graph: {e}\")\n",
    "    print(\"If you're missing graphviz, you can install it with: pip install graphviz\")"
   ]
  },
  {
   "cell_type": "markdown",
   "id": "137f294f",
   "metadata": {},
   "source": [
    "## 8. Run the Chatbot\n",
    "\n",
    "Let's test our chatbot by sending a message and displaying the response:"
   ]
  },
  {
   "cell_type": "code",
   "execution_count": 23,
   "id": "6c99d5f5",
   "metadata": {},
   "outputs": [
    {
     "name": "stdout",
     "output_type": "stream",
     "text": [
      "Bot response:\n",
      "Why do programmers prefer dark mode?\n",
      "\n",
      "Because light attracts bugs!\n",
      "------------\n",
      "result_struct:  {'messages': [HumanMessage(content='Tell me a short joke about programming', additional_kwargs={}, response_metadata={}, id='9ec72d27-2bbb-44f9-a578-fcf39dc0c114'), AIMessage(content='Why do programmers prefer dark mode?\\n\\nBecause light attracts bugs!', additional_kwargs={'refusal': None}, response_metadata={'token_usage': {'completion_tokens': 12, 'prompt_tokens': 14, 'total_tokens': 26, 'completion_tokens_details': {'accepted_prediction_tokens': 0, 'audio_tokens': 0, 'reasoning_tokens': 0, 'rejected_prediction_tokens': 0}, 'prompt_tokens_details': {'audio_tokens': 0, 'cached_tokens': 0}}, 'model_name': 'gpt-4o-mini-2024-07-18', 'system_fingerprint': 'fp_34a54ae93c', 'id': 'chatcmpl-BmTph2qPPXe4YTwTszq3abl3d4FLH', 'service_tier': 'default', 'finish_reason': 'stop', 'logprobs': None}, id='run--dd4811ee-1a63-45c5-b2f4-1eece1f8632d-0', usage_metadata={'input_tokens': 14, 'output_tokens': 12, 'total_tokens': 26, 'input_token_details': {'audio': 0, 'cache_read': 0}, 'output_token_details': {'audio': 0, 'reasoning': 0}})]}\n"
     ]
    }
   ],
   "source": [
    "from langchain_core.messages import HumanMessage\n",
    "\n",
    "# Create a human message\n",
    "human_message = HumanMessage(content=\"Tell me a short joke about programming\")\n",
    "\n",
    "# Run the graph with our message\n",
    "result = graph.invoke({\"messages\": [human_message]})\n",
    "\n",
    "# Display the result\n",
    "print(\"Bot response:\")\n",
    "print(result[\"messages\"][-1].content)\n",
    "print(\"------------\")\n",
    "print(\"result_struct: \", result)"
   ]
  },
  {
   "cell_type": "markdown",
   "id": "3bc8b633",
   "metadata": {},
   "source": [
    "## Custom node types\n",
    "LangGraph allows you to create custom node types to implement complex agent logic. This provides flexibility and control over your application's behavior."
   ]
  },
  {
   "cell_type": "code",
   "execution_count": 24,
   "id": "948dd53e",
   "metadata": {},
   "outputs": [
    {
     "data": {
      "text/plain": [
       "<langgraph.graph.state.StateGraph at 0x108849f30>"
      ]
     },
     "execution_count": 24,
     "metadata": {},
     "output_type": "execute_result"
    }
   ],
   "source": [
    "# Define a custom node that can be used in the graph\n",
    "class MyCustomNode:\n",
    "    def __init__(self, llm):\n",
    "        self.llm = llm\n",
    "    def __call__(self, state):\n",
    "        # Implement your custom logic here\n",
    "        # Access the state and perform actions\n",
    "        messages = state[\"messages\"]\n",
    "        response = self.llm.invoke(messages)\n",
    "        return {\"messages\": [response]}\n",
    "    \n",
    "# Define a custom node that uses the LLM\n",
    "graph_builder = StateGraph(State)\n",
    "custom_node = MyCustomNode(llm)\n",
    "graph_builder.add_node(\"custom_node\", custom_node)"
   ]
  },
  {
   "cell_type": "markdown",
   "id": "f7f9b0ae",
   "metadata": {},
   "source": [
    "## Edge types\n",
    "LangGraph supports different edge types to handle various communication patterns between nodes. One useful type is the conditional edge, which allows for decision-making based on a node's output.\n",
    "\n",
    "To create a conditional edge, you need three components:\n",
    "\n",
    "1. The upstream node: The node's output decides the next step.\n",
    "2. A function: This function evaluates the upstream node's output and determines the next node to execute, returning a string that represents the decision.\n",
    "3. A mapping: This mapping links the possible outcomes of the function to the corresponding nodes to be executed."
   ]
  },
  {
   "cell_type": "code",
   "execution_count": null,
   "id": "0a5c960d",
   "metadata": {},
   "outputs": [],
   "source": [
    "graph.add_conditional_edge(\n",
    "    \"model\",\n",
    "    should_continue,\n",
    "    {\n",
    "        \"end\": END,\n",
    "        \"continue\": \"tools\"\n",
    "    }\n",
    ")"
   ]
  },
  {
   "cell_type": "markdown",
   "id": "c2011baa",
   "metadata": {},
   "source": [
    "## State management\n",
    "LangGraph offers powerful state management techniques, which include using external databases like SQLite, PostgreSQL, and MongoDB, or cloud storage solutions like Amazon S3, Google Cloud Storage, and Azure Blob Storage to store and retrieve your agent's state, enabling reliability and scalability.\n",
    "\n",
    "Here's an example of using a SQLite database for state management:"
   ]
  },
  {
   "cell_type": "code",
   "execution_count": null,
   "id": "3a5cb66f",
   "metadata": {},
   "outputs": [
    {
     "ename": "ModuleNotFoundError",
     "evalue": "No module named 'langgraph.checkpoint.sqlite'",
     "output_type": "error",
     "traceback": [
      "\u001b[31m---------------------------------------------------------------------------\u001b[39m",
      "\u001b[31mModuleNotFoundError\u001b[39m                       Traceback (most recent call last)",
      "\u001b[36mCell\u001b[39m\u001b[36m \u001b[39m\u001b[32mIn[25]\u001b[39m\u001b[32m, line 1\u001b[39m\n\u001b[32m----> \u001b[39m\u001b[32m1\u001b[39m \u001b[38;5;28;01mfrom\u001b[39;00m\u001b[38;5;250m \u001b[39m\u001b[34;01mlanggraph\u001b[39;00m\u001b[34;01m.\u001b[39;00m\u001b[34;01mcheckpoint\u001b[39;00m\u001b[34;01m.\u001b[39;00m\u001b[34;01msqlite\u001b[39;00m\u001b[38;5;250m \u001b[39m\u001b[38;5;28;01mimport\u001b[39;00m SqliteSaver\n\u001b[32m      2\u001b[39m \u001b[38;5;66;03m# Connect to the SQLite database\u001b[39;00m\n\u001b[32m      3\u001b[39m memory = SqliteSaver.from_conn_string(\u001b[33m\"\u001b[39m\u001b[33m:memory:\u001b[39m\u001b[33m\"\u001b[39m)\n",
      "\u001b[31mModuleNotFoundError\u001b[39m: No module named 'langgraph.checkpoint.sqlite'"
     ]
    }
   ],
   "source": [
    "from langgraph.persistence.sqlite import SqliteSaver\n",
    "# Connect to the SQLite database\n",
    "memory = SqliteSaver.from_conn_string(\":memory:\")\n",
    "# Compile the graph with the checkpointer\n",
    "graph = graph_builder.compile(checkpointer=memory)"
   ]
  },
  {
   "cell_type": "markdown",
   "id": "fbf61585",
   "metadata": {},
   "source": [
    "## Conclusion\n",
    "\n",
    "We've successfully created a simple chatbot using LangGraph! This is a minimal example with just one node, but LangGraph allows you to build much more complex conversation flows with multiple nodes, conditional edges, and loops. You can extend this example by:\n",
    "\n",
    "1. Adding more nodes for different conversation tasks\n",
    "2. Implementing conditional routing between nodes\n",
    "3. Adding memory to maintain context across multiple turns\n",
    "4. Integrating tools and external APIs \n",
    "5. Creating feedback loops for self-correction\n",
    "\n",
    "For more information, check out the [LangGraph documentation](https://github.com/langchain-ai/langgraph)."
   ]
  }
 ],
 "metadata": {
  "kernelspec": {
   "display_name": ".venv",
   "language": "python",
   "name": "python3"
  },
  "language_info": {
   "codemirror_mode": {
    "name": "ipython",
    "version": 3
   },
   "file_extension": ".py",
   "mimetype": "text/x-python",
   "name": "python",
   "nbconvert_exporter": "python",
   "pygments_lexer": "ipython3",
   "version": "3.13.3"
  }
 },
 "nbformat": 4,
 "nbformat_minor": 5
}
